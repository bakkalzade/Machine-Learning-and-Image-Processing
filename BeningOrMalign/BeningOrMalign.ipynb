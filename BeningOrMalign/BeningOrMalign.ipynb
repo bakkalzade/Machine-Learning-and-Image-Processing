{
 "cells": [
  {
   "cell_type": "markdown",
   "id": "ad13ba75",
   "metadata": {},
   "source": [
    "## Transfer Learning Using CNN"
   ]
  },
  {
   "cell_type": "markdown",
   "id": "57c24f5e",
   "metadata": {},
   "source": [
    "\n",
    "\n",
    "With transfer learning, instead of starting the learning process from scratch, you start from patterns that have been learned when solving a new related problem. So we reuse initial and middle layers of our pre-trained model to re-train only final layers for our new task. A pre-trained model denotes a model that was trained on a large benchmark dataset to solve a problem similar to the one that we want to solve.\n",
    "\n",
    "\n",
    "Fine tuning is a way of appliying or utilizing transfer learning. Specifically fine tuning is a process that takes a model that's already been trained for a given task and then tuning or tweaking that model to make it perform a second similiar task. If the two tasks are different and there will be some information that the model has learned that may not apply to our new task or there may be new information that the model needs to learn from the data regarding the new task that wasn't learned from the previous task. \n",
    "\n"
   ]
  },
  {
   "cell_type": "markdown",
   "id": "2c7dabbb",
   "metadata": {},
   "source": [
    "### Assignment\n"
   ]
  },
  {
   "cell_type": "markdown",
   "id": "f05f172c",
   "metadata": {},
   "source": [
    "In this assignment, you will implement a transfer learning approach by using clinical images for a binary image classification task. The dataset consists of skin cancer images which are labeled as melanomas, nevus, and seborrheic keratoses. You will show the ability of your CNN to distinguish between malignant melanoma and benign skin lesions (nevus, seborrheic keratosis).  So you will create a binary classification model for Melanoma vs Nevus and Seborrheic keratosis. You will use pre-trained models which are two different CNN architectures (VGG16 and ResNet50) available in Pytorch [1]. Follow the steps below  to complete the assignment.\n",
    "\n",
    "[1]: https://pytorch.org/vision/stable/models.html"
   ]
  },
  {
   "attachments": {
    "2.PNG": {
     "image/png": "[encoded data removed]"
    }
   },
   "cell_type": "markdown",
   "id": "76db1667",
   "metadata": {},
   "source": [
    "**Steps**:\n",
    "\n",
    "![2.PNG](attachment:2.PNG)\n",
    "\n",
    "\n",
    "- Obtain the pre-trained model\n",
    "\n",
    "The first step is to get the pre-trained model that is already given to you. You get pre-trained weights alongside each model. When you download a model, the weights are downloaded automatically. \n",
    "\n",
    "TorchVision offers pre-trained weights for every provided architecture, using the PyTorch *torch.hub* [2]. Instancing a pre-trained model will download its weights to a cache directory. This directory can be set using the TORCH_HOME environment variable. See *torch.hub.load_state_dict_from_url()*[3] for details.`\n",
    "\n",
    "- Create a base model\n",
    "\n",
    "The first step is to instantiate the base model using the architectures as VGG16 and ResNet50 separately. Download the pre-trained weights. If you don’t download the weights, you will have to use the architecture to train your model from scratch. Recall that the base model will usually have more units in the final output layer than you require. When creating the base model, you, therefore, have to remove the final output layer. Later on, you will add a final output layer that is compatible with your problem. \n",
    "\n",
    "- Freeze layers so they don’t change during training\n",
    "\n",
    "Freezing the layers from the pre-trained model is important when using transfer learning or fine-tuning the model. This is because you don't want the weights in those layers to be significantly altered, as this may degrade the model's pre-existing knowledge. If the weights are changed too much, then the benefits of using a pre-trained model could be diminished, making it similar to training the model from scratch. However, it's worth noting that in some cases, fine-tuning might involve updating the weights of the pre-trained model, but with a smaller learning rate, so that the pre-existing knowledge is fine-tuned to the new task without being lost entirely. In such cases, the layers are not frozen but are still carefully updated to prevent losing the initial learning. \n",
    "\n",
    "- Add new trainable layers\n",
    "\n",
    "The next step is to add new trainable layers that will turn old features into predictions on the new dataset. This is important because the pre-trained model is loaded without the final output layer. \n",
    "\n",
    "- Train the new layers on the dataset\n",
    "\n",
    "Remember that the pre-trained model’s final output will most likely be different from the output that you want for your model.  You will add some new dense layers as you please, but most importantly, a final dense layer with units corresponding to the number of outputs expected by your model. \n",
    "\n",
    "- Improve the model via fine-tuning\n",
    "\n",
    "Once you have done the previous step, you will have a model that can make predictions on your dataset. Now improve its performance through fine-tuning.\n",
    "\n",
    "- Summarize history for accuracy\n",
    "\n",
    "Plot a graph to demonstrate accuracy scores in train versus test sets. In your plot use x-axes for epoch and y a-axes for accuracy scores.\n",
    "\n",
    "\n",
    "[2]: https://pytorch.org/docs/stable/hub.html#torch.hub.load_state_dict_from_url\n",
    "[3]: https://pytorch.org/docs/stable/hub.html#module-torch.hub\n"
   ]
  },
  {
   "cell_type": "markdown",
   "id": "1316c961",
   "metadata": {},
   "source": [
    "## Submission\n",
    "\n",
    "After training your models with the training and validation data, use the given test data for your predictions. In order to rank your results, you need to save your test results in a CSV file containing your test predictions like sample_predictions.csv and upload the test CSV file to the Kaggle competition. Furthermore, you are supposed to upload your coding in Jupyter notebook to the department's submission system.\n",
    "\n",
    "Kaggle competition for VGG16 architecture: https://www.kaggle.com/t/7ee370dd307a47b8b182683a1e2f4a7f\n",
    "\n",
    "Kaggle competition for ResNet50 architecture: https://www.kaggle.com/t/7f94629daea34740b9c21737e6b772a8\n",
    "\n",
    "**Due Date**: 18.05.2023\n",
    "\n",
    "**Note**: The late submission rules previously announced from the piazza apply."
   ]
  },
  {
   "cell_type": "markdown",
   "id": "f5fe9553",
   "metadata": {},
   "source": [
    "### Your Work\n"
   ]
  },
  {
   "cell_type": "code",
   "execution_count": 1,
   "id": "58f96b66",
   "metadata": {},
   "outputs": [],
   "source": [
    "#Include your codes below by including as many cells as necessary to clearly demonstrate your work\n",
    "#Please write your codes in separate sections for data pre-processing, VGG16 and ResNet50 architectures etc."
   ]
  },
  {
   "cell_type": "code",
   "execution_count": 2,
   "id": "0c3fd7cb",
   "metadata": {},
   "outputs": [],
   "source": [
    "from torchvision.datasets import ImageFolder\n",
    "from torchvision.models import resnet50\n",
    "import torch\n",
    "import torch.nn as nn\n",
    "from torchvision import models\n",
    "import torchvision.transforms as transforms\n",
    "from torch.utils.data import DataLoader, Dataset\n",
    "from PIL import Image\n",
    "import csv\n",
    "import os\n",
    "import matplotlib.pyplot as plt\n"
   ]
  },
  {
   "cell_type": "code",
   "execution_count": null,
   "id": "4e9c1ee5",
   "metadata": {},
   "outputs": [],
   "source": [
    "# Define the paths to your train, validation, and test datasets\n",
    "train_dir = r\"C:\\Users\\salih\\Desktop\\assignment3\\train\"\n",
    "valid_dir = r\"C:\\Users\\salih\\Desktop\\assignment3\\valid\"\n",
    "test_dir = r\"C:\\Users\\salih\\Desktop\\assignment3\\test\""
   ]
  },
  {
   "cell_type": "code",
   "execution_count": null,
   "id": "a5e1343f",
   "metadata": {},
   "outputs": [],
   "source": [
    "# Define the transformations to be applied to the images\n",
    "transform = transforms.Compose([\n",
    "    transforms.Resize((224, 224)),  # Resize the images to a consistent size\n",
    "    transforms.ToTensor(),  # Convert the images to tensors\n",
    "    transforms.Normalize(mean=[0.485, 0.456, 0.406], std=[0.229, 0.224, 0.225])  # Normalize the image tensors\n",
    "])\n"
   ]
  },
  {
   "cell_type": "code",
   "execution_count": null,
   "id": "1fca0303",
   "metadata": {},
   "outputs": [],
   "source": [
    "# Load the train dataset\n",
    "train_dataset = ImageFolder(train_dir, transform=transform)\n",
    "train_dataloader = DataLoader(train_dataset, batch_size=32, shuffle=True)\n",
    "\n",
    "# Load the validation dataset\n",
    "valid_dataset = ImageFolder(valid_dir, transform=transform)\n",
    "valid_dataloader = DataLoader(valid_dataset, batch_size=32, shuffle=False)\n"
   ]
  },
  {
   "cell_type": "code",
   "execution_count": null,
   "id": "9c73f521",
   "metadata": {},
   "outputs": [],
   "source": [
    "# Define a custom loader function to load images without class subdirectories\n",
    "def custom_loader(path):\n",
    "    return Image.open(path).convert('RGB')"
   ]
  },
  {
   "cell_type": "code",
   "execution_count": null,
   "id": "3915d980",
   "metadata": {},
   "outputs": [],
   "source": [
    "class TestDataset(Dataset):\n",
    "    def __init__(self, root, transform=None, loader=None):\n",
    "        self.root = root\n",
    "        self.transform = transform\n",
    "        self.loader = loader\n",
    "\n",
    "        self.samples = self._load_samples()\n",
    "\n",
    "    def _load_samples(self):\n",
    "        samples = []\n",
    "        for filename in os.listdir(self.root):\n",
    "            if filename.endswith(\".jpg\") or filename.endswith(\".png\"):\n",
    "                path = os.path.join(self.root, filename)\n",
    "                samples.append((path, 0))  # Assign a dummy label '0' to all images\n",
    "        return samples\n",
    "\n",
    "    def __getitem__(self, index):\n",
    "        path, _ = self.samples[index]\n",
    "        img = self.loader(path)\n",
    "        if self.transform is not None:\n",
    "            img = self.transform(img)\n",
    "        return img, 0  # Return the image and dummy label '0'\n",
    "\n",
    "    def __len__(self):\n",
    "        return len(self.samples)"
   ]
  },
  {
   "cell_type": "code",
   "execution_count": null,
   "id": "597c9ad0",
   "metadata": {},
   "outputs": [],
   "source": [
    "# Load the test dataset\n",
    "test_dataset = TestDataset(test_dir, transform=transform, loader=custom_loader)\n",
    "test_dataloader = DataLoader(test_dataset, batch_size=32, shuffle=False)\n"
   ]
  },
  {
   "cell_type": "code",
   "execution_count": null,
   "id": "b222da3e",
   "metadata": {},
   "outputs": [],
   "source": [
    "# Step 1: Obtain the pre-trained model for VGG-16\n",
    "myModel = models.vgg16(pretrained=True)\n",
    "num_features = 7 * 7 * 512"
   ]
  },
  {
   "cell_type": "code",
   "execution_count": null,
   "id": "858e0205",
   "metadata": {},
   "outputs": [],
   "source": [
    "# Step 1: Obtain the pre-trained model ResNet50\n",
    "myModel = resnet50(pretrained=True)\n",
    "num_features = resnet.fc.in_features"
   ]
  },
  {
   "cell_type": "code",
   "execution_count": null,
   "id": "b487b844",
   "metadata": {},
   "outputs": [],
   "source": [
    "# Step 2: Create a base model\n",
    "base_model = nn.Sequential(*list(myModel.children())[:-1])  # Remove the final output layer\n",
    "\n",
    "# Step 3: Freeze layers\n",
    "for param in base_model.parameters():\n",
    "    param.requires_grad = False\n"
   ]
  },
  {
   "cell_type": "code",
   "execution_count": null,
   "id": "c162c1fc",
   "metadata": {},
   "outputs": [],
   "source": [
    "# Step 4: Add new trainable layers\n",
    "num_classes = 3\n",
    "\n",
    "new_layers = nn.Sequential(\n",
    "    nn.Flatten(),\n",
    "    nn.Linear(num_features, 4096),\n",
    "    nn.ReLU(inplace=True),\n",
    "    nn.Dropout(0.5),\n",
    "    nn.Linear(4096, 4096),\n",
    "    nn.ReLU(inplace=True),\n",
    "    nn.Dropout(0.5),\n",
    "    nn.Linear(4096, num_classes)\n",
    ")\n",
    "model = nn.Sequential(base_model, new_layers)"
   ]
  },
  {
   "cell_type": "code",
   "execution_count": null,
   "id": "f2e6f6a1",
   "metadata": {},
   "outputs": [],
   "source": [
    "# Step 5: Train the new layers\n",
    "# Define loss function and optimizer\n",
    "criterion = nn.CrossEntropyLoss()\n",
    "learning_rate = 0.1\n",
    "num_epochs = 10\n",
    "optimizer = torch.optim.Adam(myModel.parameters(), lr=learning_rate)"
   ]
  },
  {
   "cell_type": "code",
   "execution_count": null,
   "id": "1b087d17",
   "metadata": {},
   "outputs": [],
   "source": [
    "#Step 6: Fine-tuning the model\n",
    "# Unfreeze the parameters of the base model\n",
    "for param in base_model.parameters():\n",
    "    param.requires_grad = True\n",
    "\n",
    "# Define a lower learning rate for fine-tuning\n",
    "fine_tune_lr = learning_rate / 10\n",
    "\n",
    "# Create a new optimizer for fine-tuning\n",
    "optimizer = torch.optim.Adam(model.parameters(), lr=fine_tune_lr)"
   ]
  },
  {
   "cell_type": "code",
   "execution_count": null,
   "id": "c1c5325d",
   "metadata": {},
   "outputs": [],
   "source": [
    "# Train the model\n",
    "train_acc_history = []\n",
    "valid_acc_history = []\n",
    "\n",
    "for epoch in range(num_epochs):\n",
    "    model.train()\n",
    "    running_loss = 0.0\n",
    "    train_correct = 0\n",
    "    train_total = 0\n",
    "    \n",
    "    for i, (images, labels) in enumerate(train_dataloader):\n",
    "        # Forward pass\n",
    "        outputs = model(images)\n",
    "        loss = criterion(outputs, labels)\n",
    "\n",
    "        # Backward and optimize\n",
    "        optimizer.zero_grad()\n",
    "        loss.backward()\n",
    "        optimizer.step()\n",
    "        \n",
    "        running_loss += loss.item()\n",
    "        \n",
    "        # Calculate train accuracy\n",
    "        _, predicted = torch.max(outputs.data, 1)\n",
    "        train_total += labels.size(0)\n",
    "        train_correct += (predicted == labels).sum().item()\n",
    "        \n",
    "    train_accuracy = (train_correct / train_total) * 100\n",
    "    train_acc_history.append(train_accuracy)\n",
    "    \n",
    "    model.eval()\n",
    "    valid_correct = 0\n",
    "    valid_total = 0\n",
    "    \n",
    "    with torch.no_grad():\n",
    "        for images, labels in valid_dataloader:\n",
    "            outputs = model(images)\n",
    "            _, predicted = torch.max(outputs.data, 1)\n",
    "            valid_total += labels.size(0)\n",
    "            valid_correct += (predicted == labels).sum().item()\n",
    "\n",
    "    valid_accuracy = (valid_correct / valid_total) * 100\n",
    "    valid_acc_history.append(valid_accuracy)\n",
    "\n",
    "    print('Epoch [{}/{}], Loss: {:.4f}, Validation Accuracy: {:.2f}%'\n",
    "          .format(epoch + 1, num_epochs, running_loss / len(train_dataloader),\n",
    "                  valid_accuracy))\n"
   ]
  },
  {
   "cell_type": "code",
   "execution_count": null,
   "id": "3796d864",
   "metadata": {},
   "outputs": [],
   "source": [
    "# Plot the accuracy history\n",
    "plt.plot(train_acc_history, label='Train Accuracy')\n",
    "plt.plot(valid_acc_history, label='Validation Accuracy')\n",
    "plt.xlabel('Epoch')\n",
    "plt.ylabel('Accuracy')\n",
    "plt.title('Model Accuracy')\n",
    "plt.legend()\n",
    "plt.show()"
   ]
  },
  {
   "cell_type": "code",
   "execution_count": null,
   "id": "5c3dc5d5",
   "metadata": {},
   "outputs": [],
   "source": [
    "# Testing and generating the CSV file \n",
    "model.eval()\n",
    "predictions = []\n",
    "\n",
    "        \n",
    "with torch.no_grad(), open('predictions.csv', mode='w', newline='') as file:\n",
    "    writer = csv.writer(file)\n",
    "    writer.writerow(['Id', 'Label'])\n",
    "\n",
    "    for images, _ in test_dataloader:\n",
    "        outputs = model(images)\n",
    "        _, predicted = torch.max(outputs.data, 1)\n",
    "        predictions.extend(predicted.tolist())\n",
    "\n",
    "    image_files = [os.path.basename(file) for file in os.listdir(test_dir)]\n",
    "\n",
    "    for i in range(len(image_files)):\n",
    "        writer.writerow([image_files[i], predictions[i]])\n",
    "        "
   ]
  }
 ],
 "metadata": {
  "kernelspec": {
   "display_name": "Python 3 (ipykernel)",
   "language": "python",
   "name": "python3"
  },
  "language_info": {
   "codemirror_mode": {
    "name": "ipython",
    "version": 3
   },
   "file_extension": ".py",
   "mimetype": "text/x-python",
   "name": "python",
   "nbconvert_exporter": "python",
   "pygments_lexer": "ipython3",
   "version": "3.10.9"
  }
 },
 "nbformat": 4,
 "nbformat_minor": 5
}
